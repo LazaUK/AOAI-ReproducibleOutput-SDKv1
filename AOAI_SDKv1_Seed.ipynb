{
 "cells": [
  {
   "attachments": {},
   "cell_type": "markdown",
   "metadata": {},
   "source": [
    "# Azure OpenAI - Reproducible Output\n",
    "Jupyter notebook to demo the use of the \"**seed**\" parameter with openai Python package v1.x"
   ]
  },
  {
   "cell_type": "markdown",
   "metadata": {},
   "source": [
    "### Pre-requisites:\n",
    "- You should use Chat Completion API against GPT models on **v1106** or above;\n",
    "- You should set **seed** to <u>the same integer value</u>;\n",
    "- You also need to ensure that other parameters like **messages**, **temperature**, etc. <u>stay the same</u>."
   ]
  },
  {
   "cell_type": "code",
   "execution_count": 1,
   "metadata": {},
   "outputs": [],
   "source": [
    "\"\"\"\n",
    "Define Azure OpenAI endpoint parameters\n",
    "    - Set AOAI API Version to env variable OPENAI_API_VERSION\n",
    "    - Set AOAI API Endpoint to env variable OPENAI_API_BASE\n",
    "    - Set AOAI API Key to env variable OPENAI_API_KEY\n",
    "    - Set AOAI Deployment Name to env variable OPENAI_API_DEPLOY\n",
    "\"\"\"\n",
    "\n",
    "# Importing required packages\n",
    "from openai import AzureOpenAI\n",
    "import os"
   ]
  },
  {
   "cell_type": "code",
   "execution_count": 2,
   "metadata": {},
   "outputs": [],
   "source": [
    "# Initiating Azure OpenAI client\n",
    "client = AzureOpenAI(\n",
    "    azure_endpoint = os.getenv(\"OPENAI_API_BASE\"),\n",
    "    api_key = os.getenv(\"OPENAI_API_KEY\"),\n",
    "    api_version = os.getenv(\"OPENAI_API_VERSION\")\n",
    ")\n",
    "\n",
    "AOAI_Deployment = os.getenv(\"OPENAI_API_DEPLOY\")"
   ]
  },
  {
   "cell_type": "code",
   "execution_count": 3,
   "metadata": {},
   "outputs": [],
   "source": [
    "# Creating subset of prompts\n",
    "prompts = [\n",
    "    \"Create a story about red panda.\",\n",
    "    \"Create a story about red panda.\"\n",
    "]"
   ]
  },
  {
   "cell_type": "code",
   "execution_count": 4,
   "metadata": {},
   "outputs": [],
   "source": [
    "# Defining helper function to generate completions\n",
    "def generate_completions(prompts, seed = None):\n",
    "    completions = []\n",
    "\n",
    "    for prompt in prompts:\n",
    "        completion = client.chat.completions.create(\n",
    "            model = AOAI_Deployment, # model = \"Azure OpenAI deployment name\".\n",
    "            temperature = 0.1,\n",
    "            seed = seed,\n",
    "            messages = [\n",
    "                {\"role\": \"system\", \"content\": \"You always produce 3-sentence answers.\"},\n",
    "                {\"role\": \"user\", \"content\": prompt}\n",
    "            ]        \n",
    "        )\n",
    "        fingerprint = completion.system_fingerprint\n",
    "        content = completion.choices[0].message.content\n",
    "        completions.append([fingerprint, content])\n",
    "    \n",
    "    return completions"
   ]
  },
  {
   "cell_type": "code",
   "execution_count": 5,
   "metadata": {},
   "outputs": [],
   "source": [
    "# Defining helper function to analyse differences between completions\n",
    "def analyse_completions(differenciator, completions):\n",
    "    diff = differenciator.compare(completions[0][1].split(), completions[1][1].split())\n",
    "    delta = list(delta[2:] for delta in diff if delta.startswith((\"+\", \"-\")))\n",
    "\n",
    "    if delta == []:\n",
    "        print (\"No differences found between completions.\")\n",
    "    else:\n",
    "        print (f\"Found these differences between completions: {delta}.\")"
   ]
  },
  {
   "cell_type": "markdown",
   "metadata": {},
   "source": [
    "### Scenario 1: Testing without seed"
   ]
  },
  {
   "cell_type": "code",
   "execution_count": 6,
   "metadata": {},
   "outputs": [
    {
     "name": "stdout",
     "output_type": "stream",
     "text": [
      "--------------------\n",
      "In the lush forests of the Himalayas, a curious red panda named Pabu spent his days frolicking among the trees. One day, Pabu stumbled upon a hidden grove filled with the sweetest bamboo he'd ever tasted, but it was guarded by a mischievous monkey. With a clever trick and a daring leap, Pabu outwitted the monkey, securing the grove for his family and becoming the hero of his clan.\n",
      "--------------------\n",
      "In the lush forests of the Himalayas, a curious red panda named Pabu spent his days frolicking among the trees. One day, Pabu stumbled upon a hidden grove filled with the sweetest bamboo he had ever tasted, which he decided to keep as his secret snack spot. Little did he know, his delightful discovery would soon attract other forest creatures, leading to unexpected friendships and adventures.\n",
      "--------------------\n"
     ]
    }
   ],
   "source": [
    "# Generating subset of Azure OpenAI completions\n",
    "completions1 = generate_completions(prompts)\n",
    "\n",
    "# Printing completions\n",
    "print(\"--------------------\")\n",
    "for completion in completions1:\n",
    "    print(completion[1])\n",
    "    print(\"--------------------\")"
   ]
  },
  {
   "cell_type": "markdown",
   "metadata": {},
   "source": [
    "### Scenario 2: Testing with seed"
   ]
  },
  {
   "cell_type": "code",
   "execution_count": 7,
   "metadata": {},
   "outputs": [
    {
     "name": "stdout",
     "output_type": "stream",
     "text": [
      "--------------------\n",
      "In the lush forests of the Himalayas, a curious red panda named Pabu spent his days frolicking among the trees. One day, Pabu stumbled upon a hidden grove filled with the sweetest bamboo he'd ever tasted, but it was guarded by a mischievous monkey. With a clever trick and a daring leap, Pabu outwitted the monkey, securing the grove for his family and becoming the hero of his clan.\n",
      "--------------------\n",
      "In the lush forests of the Himalayas, a curious red panda named Pabu spent his days frolicking among the trees. One day, Pabu stumbled upon a hidden grove filled with the sweetest bamboo he'd ever tasted, but it was guarded by a mischievous monkey. With a clever trick and a daring leap, Pabu outwitted the monkey, securing the grove for his family and becoming the hero of his clan.\n",
      "--------------------\n"
     ]
    }
   ],
   "source": [
    "# Generating subset of Azure OpenAI completions\n",
    "completions2 = generate_completions(prompts, seed = 42)\n",
    "\n",
    "# Printing completions\n",
    "print(\"--------------------\")\n",
    "for completion in completions2:\n",
    "    print(completion[1])\n",
    "    print(\"--------------------\")"
   ]
  },
  {
   "cell_type": "markdown",
   "metadata": {},
   "source": [
    "### Checking if output is reproducible"
   ]
  },
  {
   "cell_type": "code",
   "execution_count": 8,
   "metadata": {},
   "outputs": [],
   "source": [
    "# Initiating differenciator\n",
    "import difflib as dl\n",
    "\n",
    "differenciator = dl.Differ()"
   ]
  },
  {
   "cell_type": "code",
   "execution_count": 9,
   "metadata": {},
   "outputs": [
    {
     "name": "stdout",
     "output_type": "stream",
     "text": [
      "Found these differences between completions: [\"he'd\", 'he', 'had', 'but', 'it', 'which', 'he', 'decided', 'to', 'keep', 'was', 'as', 'guarded', 'by', 'a', 'mischievous', 'monkey.', 'With', 'a', 'clever', 'trick', 'his', 'secret', 'snack', 'spot.', 'Little', 'did', 'he', 'know,', 'his', 'delightful', 'discovery', 'would', 'soon', 'attract', 'other', 'forest', 'creatures,', 'leading', 'to', 'unexpected', 'friendships', 'adventures.', 'a', 'daring', 'leap,', 'Pabu', 'outwitted', 'the', 'monkey,', 'securing', 'the', 'grove', 'for', 'his', 'family', 'and', 'becoming', 'the', 'hero', 'of', 'his', 'clan.'].\n"
     ]
    }
   ],
   "source": [
    "# Analysis of completions of Scenario 1 (without seed)\n",
    "analyse_completions(differenciator, completions1)"
   ]
  },
  {
   "cell_type": "code",
   "execution_count": 10,
   "metadata": {},
   "outputs": [
    {
     "name": "stdout",
     "output_type": "stream",
     "text": [
      "No differences found between completions.\n"
     ]
    }
   ],
   "source": [
    "# Analysis of completions of Scenario 2 (with seed)\n",
    "analyse_completions(differenciator, completions2)"
   ]
  },
  {
   "cell_type": "code",
   "execution_count": null,
   "metadata": {},
   "outputs": [],
   "source": []
  }
 ],
 "metadata": {
  "kernelspec": {
   "display_name": "Python 3",
   "language": "python",
   "name": "python3"
  },
  "language_info": {
   "codemirror_mode": {
    "name": "ipython",
    "version": 3
   },
   "file_extension": ".py",
   "mimetype": "text/x-python",
   "name": "python",
   "nbconvert_exporter": "python",
   "pygments_lexer": "ipython3",
   "version": "3.8.10"
  },
  "orig_nbformat": 4
 },
 "nbformat": 4,
 "nbformat_minor": 2
}
